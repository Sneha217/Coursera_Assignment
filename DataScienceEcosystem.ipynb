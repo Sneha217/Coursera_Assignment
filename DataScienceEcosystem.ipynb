{
 "cells": [
  {
   "cell_type": "markdown",
   "id": "933fc78d-49bd-4911-be6f-891dddfe6ad0",
   "metadata": {},
   "source": [
    "# Data Science Tools and Ecosystem"
   ]
  },
  {
   "cell_type": "markdown",
   "id": "34376afa-8888-4e95-b8ac-f59c38bda2fc",
   "metadata": {},
   "source": [
    "In this notebook, Data Science Tools and Ecosystem are summarized.\n"
   ]
  },
  {
   "cell_type": "markdown",
   "id": "305f2a2e-0ef3-41f9-a3ab-ff61c7910c43",
   "metadata": {},
   "source": [
    "**Objectives:**\n",
    "- ordering of items in the markdown cell\n",
    "- creating a table in the markdown cell\n",
    "- Evaluating arithmetic expressions \n",
    "- demonstrating the conversion from minutes to hours"
   ]
  },
  {
   "cell_type": "markdown",
   "id": "cb391647-cdeb-4c33-8518-65d2bcc81926",
   "metadata": {},
   "source": [
    "Some of the popular languages that Data Scientists use are:\n",
    "1. Python \n",
    "2. R \n",
    "3. Julia\n",
    "4. SQL\n"
   ]
  },
  {
   "cell_type": "markdown",
   "id": "68e20ec3-7c03-40aa-8b4e-91f4336bf75f",
   "metadata": {},
   "source": [
    "Some of the commonly used libraries used by Data Scientists include:\n",
    "1. Pandas \n",
    "2. SciPy \n",
    "3. NumPy \n",
    "4. Tensorflow"
   ]
  },
  {
   "cell_type": "markdown",
   "id": "52be99c2-f936-4d22-a354-5f638f06b81d",
   "metadata": {
    "tags": []
   },
   "source": [
    "|Data Science Tools |\n",
    "|-----------------|\n",
    "|Apache Spark|\n",
    "|RStudio|\n",
    "|Apache Hadoop|"
   ]
  },
  {
   "cell_type": "markdown",
   "id": "51b41d65-31a8-4b9a-8ba0-c9308718986c",
   "metadata": {},
   "source": [
    "### Below are a few examples of evaluating arithmetic expressions in Python."
   ]
  },
  {
   "cell_type": "code",
   "execution_count": 8,
   "id": "6e757e48-6119-4b13-b85c-e5823d736eb4",
   "metadata": {
    "tags": []
   },
   "outputs": [
    {
     "data": {
      "text/plain": [
       "17"
      ]
     },
     "execution_count": 8,
     "metadata": {},
     "output_type": "execute_result"
    }
   ],
   "source": [
    "# This a simple arithmetic expression to mutiply then add integers.\n",
    "(3*4)+5"
   ]
  },
  {
   "cell_type": "code",
   "execution_count": 9,
   "id": "27c7ea5a-458b-4aa5-b72d-44d93fed7b68",
   "metadata": {
    "tags": []
   },
   "outputs": [
    {
     "data": {
      "text/plain": [
       "3.3333333333333335"
      ]
     },
     "execution_count": 9,
     "metadata": {},
     "output_type": "execute_result"
    }
   ],
   "source": [
    "# This will convert 200 minutes to hours by diving by 60.\n",
    "(200/60)"
   ]
  },
  {
   "cell_type": "markdown",
   "id": "49a57c2e-c16b-4d50-9d4f-22616c629f41",
   "metadata": {},
   "source": [
    "## Author\n",
    "Sneha"
   ]
  }
 ],
 "metadata": {
  "kernelspec": {
   "display_name": "Python",
   "language": "python",
   "name": "conda-env-python-py"
  },
  "language_info": {
   "codemirror_mode": {
    "name": "ipython",
    "version": 3
   },
   "file_extension": ".py",
   "mimetype": "text/x-python",
   "name": "python",
   "nbconvert_exporter": "python",
   "pygments_lexer": "ipython3",
   "version": "3.7.12"
  }
 },
 "nbformat": 4,
 "nbformat_minor": 5
}
